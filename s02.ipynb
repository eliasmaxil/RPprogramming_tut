{
 "cells": [
  {
   "cell_type": "code",
   "execution_count": 1,
   "metadata": {},
   "outputs": [],
   "source": [
    "setwd(\"/home/emx/gdrive/Data_Basics/R_programming/Section02\")"
   ]
  },
  {
   "cell_type": "code",
   "execution_count": 2,
   "metadata": {},
   "outputs": [
    {
     "data": {
      "text/html": [
       "'/home/emx/gdrive/Data_Basics/R_programming/Section02'"
      ],
      "text/latex": [
       "'/home/emx/gdrive/Data\\_Basics/R\\_programming/Section02'"
      ],
      "text/markdown": [
       "'/home/emx/gdrive/Data_Basics/R_programming/Section02'"
      ],
      "text/plain": [
       "[1] \"/home/emx/gdrive/Data_Basics/R_programming/Section02\""
      ]
     },
     "metadata": {},
     "output_type": "display_data"
    }
   ],
   "source": [
    "getwd()"
   ]
  },
  {
   "cell_type": "code",
   "execution_count": 19,
   "metadata": {},
   "outputs": [],
   "source": [
    "fin <- read.csv(\"P3-Future-500-The-Dataset.csv\")"
   ]
  },
  {
   "cell_type": "code",
   "execution_count": 20,
   "metadata": {},
   "outputs": [
    {
     "data": {
      "text/html": [
       "<table>\n",
       "<thead><tr><th scope=col>ID</th><th scope=col>Name</th><th scope=col>Industry</th><th scope=col>Inception</th><th scope=col>Employees</th><th scope=col>State</th><th scope=col>City</th><th scope=col>Revenue</th><th scope=col>Expenses</th><th scope=col>Profit</th><th scope=col>Growth</th></tr></thead>\n",
       "<tbody>\n",
       "\t<tr><td>1                </td><td>Over-Hex         </td><td>Software         </td><td>2006             </td><td>25               </td><td>TN               </td><td>Franklin         </td><td>$9,684,527       </td><td>1,130,700 Dollars</td><td> 8553827         </td><td>19%              </td></tr>\n",
       "\t<tr><td>2                </td><td>Unimattax        </td><td>IT Services      </td><td>2009             </td><td>36               </td><td>PA               </td><td>Newtown Square   </td><td>$14,016,543      </td><td>804,035 Dollars  </td><td>13212508         </td><td>20%              </td></tr>\n",
       "\t<tr><td>3                </td><td>Greenfax         </td><td>Retail           </td><td>2012             </td><td>NA               </td><td>SC               </td><td>Greenville       </td><td>$9,746,272       </td><td>1,044,375 Dollars</td><td> 8701897         </td><td>16%              </td></tr>\n",
       "\t<tr><td>4                </td><td>Blacklane        </td><td>IT Services      </td><td>2011             </td><td>66               </td><td>CA               </td><td>Orange           </td><td>$15,359,369      </td><td>4,631,808 Dollars</td><td>10727561         </td><td>19%              </td></tr>\n",
       "\t<tr><td>5                </td><td>Yearflex         </td><td>Software         </td><td>2013             </td><td>45               </td><td>WI               </td><td>Madison          </td><td>$8,567,910       </td><td>4,374,841 Dollars</td><td> 4193069         </td><td>19%              </td></tr>\n",
       "\t<tr><td>6                </td><td>Indigoplanet     </td><td>IT Services      </td><td>2013             </td><td>60               </td><td>NJ               </td><td>Manalapan        </td><td>$12,805,452      </td><td>4,626,275 Dollars</td><td> 8179177         </td><td>22%              </td></tr>\n",
       "</tbody>\n",
       "</table>\n"
      ],
      "text/latex": [
       "\\begin{tabular}{r|lllllllllll}\n",
       " ID & Name & Industry & Inception & Employees & State & City & Revenue & Expenses & Profit & Growth\\\\\n",
       "\\hline\n",
       "\t 1                 & Over-Hex          & Software          & 2006              & 25                & TN                & Franklin          & \\$9,684,527      & 1,130,700 Dollars &  8553827          & 19\\%            \\\\\n",
       "\t 2                 & Unimattax         & IT Services       & 2009              & 36                & PA                & Newtown Square    & \\$14,016,543     & 804,035 Dollars   & 13212508          & 20\\%            \\\\\n",
       "\t 3                 & Greenfax          & Retail            & 2012              & NA                & SC                & Greenville        & \\$9,746,272      & 1,044,375 Dollars &  8701897          & 16\\%            \\\\\n",
       "\t 4                 & Blacklane         & IT Services       & 2011              & 66                & CA                & Orange            & \\$15,359,369     & 4,631,808 Dollars & 10727561          & 19\\%            \\\\\n",
       "\t 5                 & Yearflex          & Software          & 2013              & 45                & WI                & Madison           & \\$8,567,910      & 4,374,841 Dollars &  4193069          & 19\\%            \\\\\n",
       "\t 6                 & Indigoplanet      & IT Services       & 2013              & 60                & NJ                & Manalapan         & \\$12,805,452     & 4,626,275 Dollars &  8179177          & 22\\%            \\\\\n",
       "\\end{tabular}\n"
      ],
      "text/markdown": [
       "\n",
       "| ID | Name | Industry | Inception | Employees | State | City | Revenue | Expenses | Profit | Growth |\n",
       "|---|---|---|---|---|---|---|---|---|---|---|\n",
       "| 1                 | Over-Hex          | Software          | 2006              | 25                | TN                | Franklin          | $9,684,527        | 1,130,700 Dollars |  8553827          | 19%               |\n",
       "| 2                 | Unimattax         | IT Services       | 2009              | 36                | PA                | Newtown Square    | $14,016,543       | 804,035 Dollars   | 13212508          | 20%               |\n",
       "| 3                 | Greenfax          | Retail            | 2012              | NA                | SC                | Greenville        | $9,746,272        | 1,044,375 Dollars |  8701897          | 16%               |\n",
       "| 4                 | Blacklane         | IT Services       | 2011              | 66                | CA                | Orange            | $15,359,369       | 4,631,808 Dollars | 10727561          | 19%               |\n",
       "| 5                 | Yearflex          | Software          | 2013              | 45                | WI                | Madison           | $8,567,910        | 4,374,841 Dollars |  4193069          | 19%               |\n",
       "| 6                 | Indigoplanet      | IT Services       | 2013              | 60                | NJ                | Manalapan         | $12,805,452       | 4,626,275 Dollars |  8179177          | 22%               |\n",
       "\n"
      ],
      "text/plain": [
       "  ID Name         Industry    Inception Employees State City          \n",
       "1 1  Over-Hex     Software    2006      25        TN    Franklin      \n",
       "2 2  Unimattax    IT Services 2009      36        PA    Newtown Square\n",
       "3 3  Greenfax     Retail      2012      NA        SC    Greenville    \n",
       "4 4  Blacklane    IT Services 2011      66        CA    Orange        \n",
       "5 5  Yearflex     Software    2013      45        WI    Madison       \n",
       "6 6  Indigoplanet IT Services 2013      60        NJ    Manalapan     \n",
       "  Revenue     Expenses          Profit   Growth\n",
       "1 $9,684,527  1,130,700 Dollars  8553827 19%   \n",
       "2 $14,016,543 804,035 Dollars   13212508 20%   \n",
       "3 $9,746,272  1,044,375 Dollars  8701897 16%   \n",
       "4 $15,359,369 4,631,808 Dollars 10727561 19%   \n",
       "5 $8,567,910  4,374,841 Dollars  4193069 19%   \n",
       "6 $12,805,452 4,626,275 Dollars  8179177 22%   "
      ]
     },
     "metadata": {},
     "output_type": "display_data"
    }
   ],
   "source": [
    "head(fin)"
   ]
  },
  {
   "cell_type": "code",
   "execution_count": 21,
   "metadata": {},
   "outputs": [
    {
     "name": "stdout",
     "output_type": "stream",
     "text": [
      "'data.frame':\t500 obs. of  11 variables:\n",
      " $ ID       : int  1 2 3 4 5 6 7 8 9 10 ...\n",
      " $ Name     : Factor w/ 500 levels \"Abstractedchocolat\",..: 297 451 168 40 485 199 435 339 242 395 ...\n",
      " $ Industry : Factor w/ 8 levels \"\",\"Construction\",..: 8 6 7 6 8 6 3 2 6 3 ...\n",
      " $ Inception: int  2006 2009 2012 2011 2013 2013 2009 2013 2009 2010 ...\n",
      " $ Employees: int  25 36 NA 66 45 60 116 73 55 25 ...\n",
      " $ State    : Factor w/ 43 levels \"\",\"AL\",\"AZ\",\"CA\",..: 37 34 36 4 42 28 23 30 4 9 ...\n",
      " $ City     : Factor w/ 297 levels \"Addison\",\"Alexandria\",..: 94 181 105 195 151 154 53 295 232 26 ...\n",
      " $ Revenue  : Factor w/ 499 levels \"\",\"$1,614,585\",..: 480 195 486 247 403 142 309 1 97 118 ...\n",
      " $ Expenses : Factor w/ 498 levels \"\",\"1,026,548 Dollars\",..: 7 486 4 249 228 248 58 1 403 496 ...\n",
      " $ Profit   : int  8553827 13212508 8701897 10727561 4193069 8179177 3259485 NA 5274553 11412916 ...\n",
      " $ Growth   : Factor w/ 33 levels \"\",\"-2%\",\"-3%\",..: 15 17 12 15 15 19 13 1 27 17 ...\n"
     ]
    }
   ],
   "source": [
    "str(fin)"
   ]
  },
  {
   "cell_type": "code",
   "execution_count": 22,
   "metadata": {},
   "outputs": [],
   "source": [
    "# summary(fin)"
   ]
  },
  {
   "cell_type": "code",
   "execution_count": 23,
   "metadata": {},
   "outputs": [],
   "source": [
    "# Changing from non-factor to factor\n",
    "fin$ID <- factor(fin$ID)\n",
    "fin$Inception <- factor(fin$Inception)"
   ]
  },
  {
   "cell_type": "code",
   "execution_count": 24,
   "metadata": {},
   "outputs": [
    {
     "name": "stdout",
     "output_type": "stream",
     "text": [
      "'data.frame':\t500 obs. of  11 variables:\n",
      " $ ID       : Factor w/ 500 levels \"1\",\"2\",\"3\",\"4\",..: 1 2 3 4 5 6 7 8 9 10 ...\n",
      " $ Name     : Factor w/ 500 levels \"Abstractedchocolat\",..: 297 451 168 40 485 199 435 339 242 395 ...\n",
      " $ Industry : Factor w/ 8 levels \"\",\"Construction\",..: 8 6 7 6 8 6 3 2 6 3 ...\n",
      " $ Inception: Factor w/ 16 levels \"1999\",\"2000\",..: 8 11 14 13 15 15 11 15 11 12 ...\n",
      " $ Employees: int  25 36 NA 66 45 60 116 73 55 25 ...\n",
      " $ State    : Factor w/ 43 levels \"\",\"AL\",\"AZ\",\"CA\",..: 37 34 36 4 42 28 23 30 4 9 ...\n",
      " $ City     : Factor w/ 297 levels \"Addison\",\"Alexandria\",..: 94 181 105 195 151 154 53 295 232 26 ...\n",
      " $ Revenue  : Factor w/ 499 levels \"\",\"$1,614,585\",..: 480 195 486 247 403 142 309 1 97 118 ...\n",
      " $ Expenses : Factor w/ 498 levels \"\",\"1,026,548 Dollars\",..: 7 486 4 249 228 248 58 1 403 496 ...\n",
      " $ Profit   : int  8553827 13212508 8701897 10727561 4193069 8179177 3259485 NA 5274553 11412916 ...\n",
      " $ Growth   : Factor w/ 33 levels \"\",\"-2%\",\"-3%\",..: 15 17 12 15 15 19 13 1 27 17 ...\n"
     ]
    }
   ],
   "source": [
    "str(fin)"
   ]
  },
  {
   "cell_type": "code",
   "execution_count": 18,
   "metadata": {},
   "outputs": [
    {
     "name": "stdout",
     "output_type": "stream",
     "text": [
      "'data.frame':\t500 obs. of  11 variables:\n",
      " $ ID       : Factor w/ 500 levels \"1\",\"2\",\"3\",\"4\",..: 1 2 3 4 5 6 7 8 9 10 ...\n",
      " $ Name     : Factor w/ 500 levels \"Abstractedchocolat\",..: 297 451 168 40 485 199 435 339 242 395 ...\n",
      " $ Industry : Factor w/ 8 levels \"\",\"Construction\",..: 8 6 7 6 8 6 3 2 6 3 ...\n",
      " $ Inception: Factor w/ 16 levels \"1999\",\"2000\",..: 8 11 14 13 15 15 11 15 11 12 ...\n",
      " $ Employees: int  25 36 NA 66 45 60 116 73 55 25 ...\n",
      " $ State    : Factor w/ 43 levels \"\",\"AL\",\"AZ\",\"CA\",..: 37 34 36 4 42 28 23 30 4 9 ...\n",
      " $ City     : Factor w/ 297 levels \"Addison\",\"Alexandria\",..: 94 181 105 195 151 154 53 295 232 26 ...\n",
      " $ Revenue  : Factor w/ 499 levels \"\",\"$1,614,585\",..: 480 195 486 247 403 142 309 1 97 118 ...\n",
      " $ Expenses : Factor w/ 498 levels \"\",\"1,026,548 Dollars\",..: 7 486 4 249 228 248 58 1 403 496 ...\n",
      " $ Profit   : int  8553827 13212508 8701897 10727561 4193069 8179177 3259485 NA 5274553 11412916 ...\n",
      " $ Growth   : Factor w/ 33 levels \"\",\"-2%\",\"-3%\",..: 15 17 12 15 15 19 13 1 27 17 ...\n"
     ]
    }
   ],
   "source": [
    "\n"
   ]
  },
  {
   "cell_type": "code",
   "execution_count": null,
   "metadata": {},
   "outputs": [],
   "source": []
  }
 ],
 "metadata": {
  "kernelspec": {
   "display_name": "R",
   "language": "R",
   "name": "ir"
  },
  "language_info": {
   "codemirror_mode": "r",
   "file_extension": ".r",
   "mimetype": "text/x-r-source",
   "name": "R",
   "pygments_lexer": "r",
   "version": "3.6.1"
  }
 },
 "nbformat": 4,
 "nbformat_minor": 4
}
